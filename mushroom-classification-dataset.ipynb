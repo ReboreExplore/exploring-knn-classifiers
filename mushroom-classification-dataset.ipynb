{
 "cells": [
  {
   "cell_type": "markdown",
   "id": "f954291a",
   "metadata": {
    "papermill": {
     "duration": 0.002553,
     "end_time": "2023-04-26T09:57:38.394610",
     "exception": false,
     "start_time": "2023-04-26T09:57:38.392057",
     "status": "completed"
    },
    "tags": []
   },
   "source": [
    "### Mushroom Dataset Exploration"
   ]
  },
  {
   "cell_type": "code",
   "execution_count": null,
   "id": "88233e66",
   "metadata": {
    "papermill": {
     "duration": 0.001874,
     "end_time": "2023-04-26T09:57:38.398159",
     "exception": false,
     "start_time": "2023-04-26T09:57:38.396285",
     "status": "completed"
    },
    "tags": []
   },
   "outputs": [],
   "source": []
  }
 ],
 "metadata": {
  "kernelspec": {
   "display_name": "Python 3",
   "language": "python",
   "name": "python3"
  },
  "language_info": {
   "codemirror_mode": {
    "name": "ipython",
    "version": 3
   },
   "file_extension": ".py",
   "mimetype": "text/x-python",
   "name": "python",
   "nbconvert_exporter": "python",
   "pygments_lexer": "ipython3",
   "version": "3.7.12"
  },
  "papermill": {
   "default_parameters": {},
   "duration": 10.263286,
   "end_time": "2023-04-26T09:57:39.025817",
   "environment_variables": {},
   "exception": null,
   "input_path": "__notebook__.ipynb",
   "output_path": "__notebook__.ipynb",
   "parameters": {},
   "start_time": "2023-04-26T09:57:28.762531",
   "version": "2.4.0"
  }
 },
 "nbformat": 4,
 "nbformat_minor": 5
}

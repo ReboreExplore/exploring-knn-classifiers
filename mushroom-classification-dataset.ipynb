{
 "cells": [
  {
   "cell_type": "markdown",
   "id": "7d9113ba",
   "metadata": {
    "papermill": {
     "duration": 0.007746,
     "end_time": "2023-04-26T21:21:19.222127",
     "exception": false,
     "start_time": "2023-04-26T21:21:19.214381",
     "status": "completed"
    },
    "tags": []
   },
   "source": [
    "# Mushroom Dataset Exploration"
   ]
  },
  {
   "cell_type": "markdown",
   "id": "46f4bfec",
   "metadata": {
    "papermill": {
     "duration": 0.005617,
     "end_time": "2023-04-26T21:21:19.233894",
     "exception": false,
     "start_time": "2023-04-26T21:21:19.228277",
     "status": "completed"
    },
    "tags": []
   },
   "source": [
    "Through this notebook, we intend to classify a given mushroom as **poisonous** or **edible**, based on the some attributes/features. Our prediction task is to classify unseen mushrooms. This is supervised learning task as the dataset is labelled.\n",
    "\n",
    "The input will be a set of features like p,x,s,n,t,p,f,c,n,k,e,e,s,s,w,w,p,w,o,p,k,s,u, where each value is a categorical parameter. \n",
    "\n",
    "The output of the model will be a binary classifier which will classify the input parameters as edible(e) or poisonous(p). \n",
    "\n",
    "Our goal is to train the machine learning model which should approximation a function such that the statistical distribution of the predicted output values is as close as to the statistical distribution of the ground truths.\n",
    "\n",
    "Here we use **k-neraest neighbour** (knn) classifier as the classifier."
   ]
  },
  {
   "cell_type": "code",
   "execution_count": 1,
   "id": "b8a52d96",
   "metadata": {
    "execution": {
     "iopub.execute_input": "2023-04-26T21:21:19.248463Z",
     "iopub.status.busy": "2023-04-26T21:21:19.247567Z",
     "iopub.status.idle": "2023-04-26T21:21:20.465761Z",
     "shell.execute_reply": "2023-04-26T21:21:20.464559Z"
    },
    "papermill": {
     "duration": 1.228984,
     "end_time": "2023-04-26T21:21:20.468836",
     "exception": false,
     "start_time": "2023-04-26T21:21:19.239852",
     "status": "completed"
    },
    "tags": []
   },
   "outputs": [],
   "source": [
    "# Import the necessary packages\n",
    "import pandas as pd\n",
    "import numpy as np\n",
    "import random\n",
    "from matplotlib import pyplot as plt\n",
    "from sklearn.preprocessing import LabelEncoder\n",
    "from sklearn.preprocessing import StandardScaler\n",
    "from sklearn.model_selection import train_test_split\n",
    "from sklearn.neighbors import KNeighborsClassifier"
   ]
  },
  {
   "cell_type": "markdown",
   "id": "f496b91c",
   "metadata": {
    "papermill": {
     "duration": 0.005564,
     "end_time": "2023-04-26T21:21:20.480211",
     "exception": false,
     "start_time": "2023-04-26T21:21:20.474647",
     "status": "completed"
    },
    "tags": []
   },
   "source": [
    "## About the dataset\n",
    "The dataset is from the UCI Machine Learning Repository. You can find more about the original dataset [here](https://archive.ics.uci.edu/ml/datasets/Mushroom). The csv file used for this project is obtained from [this](https://www.kaggle.com/datasets/uciml/mushroom-classification) kaggle dataset. The dataset has 22 feature vectors on the based of which the classification of a mushroom is predicted."
   ]
  },
  {
   "cell_type": "code",
   "execution_count": 2,
   "id": "ac50793d",
   "metadata": {
    "execution": {
     "iopub.execute_input": "2023-04-26T21:21:20.493475Z",
     "iopub.status.busy": "2023-04-26T21:21:20.493074Z",
     "iopub.status.idle": "2023-04-26T21:21:20.585628Z",
     "shell.execute_reply": "2023-04-26T21:21:20.584395Z"
    },
    "papermill": {
     "duration": 0.102286,
     "end_time": "2023-04-26T21:21:20.588199",
     "exception": false,
     "start_time": "2023-04-26T21:21:20.485913",
     "status": "completed"
    },
    "tags": []
   },
   "outputs": [
    {
     "data": {
      "text/html": [
       "<div>\n",
       "<style scoped>\n",
       "    .dataframe tbody tr th:only-of-type {\n",
       "        vertical-align: middle;\n",
       "    }\n",
       "\n",
       "    .dataframe tbody tr th {\n",
       "        vertical-align: top;\n",
       "    }\n",
       "\n",
       "    .dataframe thead th {\n",
       "        text-align: right;\n",
       "    }\n",
       "</style>\n",
       "<table border=\"1\" class=\"dataframe\">\n",
       "  <thead>\n",
       "    <tr style=\"text-align: right;\">\n",
       "      <th></th>\n",
       "      <th>class</th>\n",
       "      <th>cap-shape</th>\n",
       "      <th>cap-surface</th>\n",
       "      <th>cap-color</th>\n",
       "      <th>bruises</th>\n",
       "      <th>odor</th>\n",
       "      <th>gill-attachment</th>\n",
       "      <th>gill-spacing</th>\n",
       "      <th>gill-size</th>\n",
       "      <th>gill-color</th>\n",
       "      <th>...</th>\n",
       "      <th>stalk-surface-below-ring</th>\n",
       "      <th>stalk-color-above-ring</th>\n",
       "      <th>stalk-color-below-ring</th>\n",
       "      <th>veil-type</th>\n",
       "      <th>veil-color</th>\n",
       "      <th>ring-number</th>\n",
       "      <th>ring-type</th>\n",
       "      <th>spore-print-color</th>\n",
       "      <th>population</th>\n",
       "      <th>habitat</th>\n",
       "    </tr>\n",
       "  </thead>\n",
       "  <tbody>\n",
       "    <tr>\n",
       "      <th>0</th>\n",
       "      <td>p</td>\n",
       "      <td>x</td>\n",
       "      <td>s</td>\n",
       "      <td>n</td>\n",
       "      <td>t</td>\n",
       "      <td>p</td>\n",
       "      <td>f</td>\n",
       "      <td>c</td>\n",
       "      <td>n</td>\n",
       "      <td>k</td>\n",
       "      <td>...</td>\n",
       "      <td>s</td>\n",
       "      <td>w</td>\n",
       "      <td>w</td>\n",
       "      <td>p</td>\n",
       "      <td>w</td>\n",
       "      <td>o</td>\n",
       "      <td>p</td>\n",
       "      <td>k</td>\n",
       "      <td>s</td>\n",
       "      <td>u</td>\n",
       "    </tr>\n",
       "    <tr>\n",
       "      <th>1</th>\n",
       "      <td>e</td>\n",
       "      <td>x</td>\n",
       "      <td>s</td>\n",
       "      <td>y</td>\n",
       "      <td>t</td>\n",
       "      <td>a</td>\n",
       "      <td>f</td>\n",
       "      <td>c</td>\n",
       "      <td>b</td>\n",
       "      <td>k</td>\n",
       "      <td>...</td>\n",
       "      <td>s</td>\n",
       "      <td>w</td>\n",
       "      <td>w</td>\n",
       "      <td>p</td>\n",
       "      <td>w</td>\n",
       "      <td>o</td>\n",
       "      <td>p</td>\n",
       "      <td>n</td>\n",
       "      <td>n</td>\n",
       "      <td>g</td>\n",
       "    </tr>\n",
       "    <tr>\n",
       "      <th>2</th>\n",
       "      <td>e</td>\n",
       "      <td>b</td>\n",
       "      <td>s</td>\n",
       "      <td>w</td>\n",
       "      <td>t</td>\n",
       "      <td>l</td>\n",
       "      <td>f</td>\n",
       "      <td>c</td>\n",
       "      <td>b</td>\n",
       "      <td>n</td>\n",
       "      <td>...</td>\n",
       "      <td>s</td>\n",
       "      <td>w</td>\n",
       "      <td>w</td>\n",
       "      <td>p</td>\n",
       "      <td>w</td>\n",
       "      <td>o</td>\n",
       "      <td>p</td>\n",
       "      <td>n</td>\n",
       "      <td>n</td>\n",
       "      <td>m</td>\n",
       "    </tr>\n",
       "    <tr>\n",
       "      <th>3</th>\n",
       "      <td>p</td>\n",
       "      <td>x</td>\n",
       "      <td>y</td>\n",
       "      <td>w</td>\n",
       "      <td>t</td>\n",
       "      <td>p</td>\n",
       "      <td>f</td>\n",
       "      <td>c</td>\n",
       "      <td>n</td>\n",
       "      <td>n</td>\n",
       "      <td>...</td>\n",
       "      <td>s</td>\n",
       "      <td>w</td>\n",
       "      <td>w</td>\n",
       "      <td>p</td>\n",
       "      <td>w</td>\n",
       "      <td>o</td>\n",
       "      <td>p</td>\n",
       "      <td>k</td>\n",
       "      <td>s</td>\n",
       "      <td>u</td>\n",
       "    </tr>\n",
       "    <tr>\n",
       "      <th>4</th>\n",
       "      <td>e</td>\n",
       "      <td>x</td>\n",
       "      <td>s</td>\n",
       "      <td>g</td>\n",
       "      <td>f</td>\n",
       "      <td>n</td>\n",
       "      <td>f</td>\n",
       "      <td>w</td>\n",
       "      <td>b</td>\n",
       "      <td>k</td>\n",
       "      <td>...</td>\n",
       "      <td>s</td>\n",
       "      <td>w</td>\n",
       "      <td>w</td>\n",
       "      <td>p</td>\n",
       "      <td>w</td>\n",
       "      <td>o</td>\n",
       "      <td>e</td>\n",
       "      <td>n</td>\n",
       "      <td>a</td>\n",
       "      <td>g</td>\n",
       "    </tr>\n",
       "    <tr>\n",
       "      <th>...</th>\n",
       "      <td>...</td>\n",
       "      <td>...</td>\n",
       "      <td>...</td>\n",
       "      <td>...</td>\n",
       "      <td>...</td>\n",
       "      <td>...</td>\n",
       "      <td>...</td>\n",
       "      <td>...</td>\n",
       "      <td>...</td>\n",
       "      <td>...</td>\n",
       "      <td>...</td>\n",
       "      <td>...</td>\n",
       "      <td>...</td>\n",
       "      <td>...</td>\n",
       "      <td>...</td>\n",
       "      <td>...</td>\n",
       "      <td>...</td>\n",
       "      <td>...</td>\n",
       "      <td>...</td>\n",
       "      <td>...</td>\n",
       "      <td>...</td>\n",
       "    </tr>\n",
       "    <tr>\n",
       "      <th>8119</th>\n",
       "      <td>e</td>\n",
       "      <td>k</td>\n",
       "      <td>s</td>\n",
       "      <td>n</td>\n",
       "      <td>f</td>\n",
       "      <td>n</td>\n",
       "      <td>a</td>\n",
       "      <td>c</td>\n",
       "      <td>b</td>\n",
       "      <td>y</td>\n",
       "      <td>...</td>\n",
       "      <td>s</td>\n",
       "      <td>o</td>\n",
       "      <td>o</td>\n",
       "      <td>p</td>\n",
       "      <td>o</td>\n",
       "      <td>o</td>\n",
       "      <td>p</td>\n",
       "      <td>b</td>\n",
       "      <td>c</td>\n",
       "      <td>l</td>\n",
       "    </tr>\n",
       "    <tr>\n",
       "      <th>8120</th>\n",
       "      <td>e</td>\n",
       "      <td>x</td>\n",
       "      <td>s</td>\n",
       "      <td>n</td>\n",
       "      <td>f</td>\n",
       "      <td>n</td>\n",
       "      <td>a</td>\n",
       "      <td>c</td>\n",
       "      <td>b</td>\n",
       "      <td>y</td>\n",
       "      <td>...</td>\n",
       "      <td>s</td>\n",
       "      <td>o</td>\n",
       "      <td>o</td>\n",
       "      <td>p</td>\n",
       "      <td>n</td>\n",
       "      <td>o</td>\n",
       "      <td>p</td>\n",
       "      <td>b</td>\n",
       "      <td>v</td>\n",
       "      <td>l</td>\n",
       "    </tr>\n",
       "    <tr>\n",
       "      <th>8121</th>\n",
       "      <td>e</td>\n",
       "      <td>f</td>\n",
       "      <td>s</td>\n",
       "      <td>n</td>\n",
       "      <td>f</td>\n",
       "      <td>n</td>\n",
       "      <td>a</td>\n",
       "      <td>c</td>\n",
       "      <td>b</td>\n",
       "      <td>n</td>\n",
       "      <td>...</td>\n",
       "      <td>s</td>\n",
       "      <td>o</td>\n",
       "      <td>o</td>\n",
       "      <td>p</td>\n",
       "      <td>o</td>\n",
       "      <td>o</td>\n",
       "      <td>p</td>\n",
       "      <td>b</td>\n",
       "      <td>c</td>\n",
       "      <td>l</td>\n",
       "    </tr>\n",
       "    <tr>\n",
       "      <th>8122</th>\n",
       "      <td>p</td>\n",
       "      <td>k</td>\n",
       "      <td>y</td>\n",
       "      <td>n</td>\n",
       "      <td>f</td>\n",
       "      <td>y</td>\n",
       "      <td>f</td>\n",
       "      <td>c</td>\n",
       "      <td>n</td>\n",
       "      <td>b</td>\n",
       "      <td>...</td>\n",
       "      <td>k</td>\n",
       "      <td>w</td>\n",
       "      <td>w</td>\n",
       "      <td>p</td>\n",
       "      <td>w</td>\n",
       "      <td>o</td>\n",
       "      <td>e</td>\n",
       "      <td>w</td>\n",
       "      <td>v</td>\n",
       "      <td>l</td>\n",
       "    </tr>\n",
       "    <tr>\n",
       "      <th>8123</th>\n",
       "      <td>e</td>\n",
       "      <td>x</td>\n",
       "      <td>s</td>\n",
       "      <td>n</td>\n",
       "      <td>f</td>\n",
       "      <td>n</td>\n",
       "      <td>a</td>\n",
       "      <td>c</td>\n",
       "      <td>b</td>\n",
       "      <td>y</td>\n",
       "      <td>...</td>\n",
       "      <td>s</td>\n",
       "      <td>o</td>\n",
       "      <td>o</td>\n",
       "      <td>p</td>\n",
       "      <td>o</td>\n",
       "      <td>o</td>\n",
       "      <td>p</td>\n",
       "      <td>o</td>\n",
       "      <td>c</td>\n",
       "      <td>l</td>\n",
       "    </tr>\n",
       "  </tbody>\n",
       "</table>\n",
       "<p>8124 rows × 23 columns</p>\n",
       "</div>"
      ],
      "text/plain": [
       "     class cap-shape cap-surface cap-color bruises odor gill-attachment  \\\n",
       "0        p         x           s         n       t    p               f   \n",
       "1        e         x           s         y       t    a               f   \n",
       "2        e         b           s         w       t    l               f   \n",
       "3        p         x           y         w       t    p               f   \n",
       "4        e         x           s         g       f    n               f   \n",
       "...    ...       ...         ...       ...     ...  ...             ...   \n",
       "8119     e         k           s         n       f    n               a   \n",
       "8120     e         x           s         n       f    n               a   \n",
       "8121     e         f           s         n       f    n               a   \n",
       "8122     p         k           y         n       f    y               f   \n",
       "8123     e         x           s         n       f    n               a   \n",
       "\n",
       "     gill-spacing gill-size gill-color  ... stalk-surface-below-ring  \\\n",
       "0               c         n          k  ...                        s   \n",
       "1               c         b          k  ...                        s   \n",
       "2               c         b          n  ...                        s   \n",
       "3               c         n          n  ...                        s   \n",
       "4               w         b          k  ...                        s   \n",
       "...           ...       ...        ...  ...                      ...   \n",
       "8119            c         b          y  ...                        s   \n",
       "8120            c         b          y  ...                        s   \n",
       "8121            c         b          n  ...                        s   \n",
       "8122            c         n          b  ...                        k   \n",
       "8123            c         b          y  ...                        s   \n",
       "\n",
       "     stalk-color-above-ring stalk-color-below-ring veil-type veil-color  \\\n",
       "0                         w                      w         p          w   \n",
       "1                         w                      w         p          w   \n",
       "2                         w                      w         p          w   \n",
       "3                         w                      w         p          w   \n",
       "4                         w                      w         p          w   \n",
       "...                     ...                    ...       ...        ...   \n",
       "8119                      o                      o         p          o   \n",
       "8120                      o                      o         p          n   \n",
       "8121                      o                      o         p          o   \n",
       "8122                      w                      w         p          w   \n",
       "8123                      o                      o         p          o   \n",
       "\n",
       "     ring-number ring-type spore-print-color population habitat  \n",
       "0              o         p                 k          s       u  \n",
       "1              o         p                 n          n       g  \n",
       "2              o         p                 n          n       m  \n",
       "3              o         p                 k          s       u  \n",
       "4              o         e                 n          a       g  \n",
       "...          ...       ...               ...        ...     ...  \n",
       "8119           o         p                 b          c       l  \n",
       "8120           o         p                 b          v       l  \n",
       "8121           o         p                 b          c       l  \n",
       "8122           o         e                 w          v       l  \n",
       "8123           o         p                 o          c       l  \n",
       "\n",
       "[8124 rows x 23 columns]"
      ]
     },
     "execution_count": 2,
     "metadata": {},
     "output_type": "execute_result"
    }
   ],
   "source": [
    "# Load the dataset and observe the output of the csv file. This is just a first glance of the data, we will explore the dataset later.\n",
    "mushroom_data = pd.read_csv('../input/mushroom-classification/mushrooms.csv')\n",
    "mushroom_data"
   ]
  },
  {
   "cell_type": "markdown",
   "id": "6965140f",
   "metadata": {
    "papermill": {
     "duration": 0.006088,
     "end_time": "2023-04-26T21:21:20.600996",
     "exception": false,
     "start_time": "2023-04-26T21:21:20.594908",
     "status": "completed"
    },
    "tags": []
   },
   "source": [
    "## Dataset Analysis\n",
    "Lets first analyse the dataset and know about the structure of the dataset. With the first glance of the csv file we can already guess that it is a categorical dataset."
   ]
  },
  {
   "cell_type": "code",
   "execution_count": 3,
   "id": "b51dd482",
   "metadata": {
    "execution": {
     "iopub.execute_input": "2023-04-26T21:21:20.615615Z",
     "iopub.status.busy": "2023-04-26T21:21:20.615195Z",
     "iopub.status.idle": "2023-04-26T21:21:20.621585Z",
     "shell.execute_reply": "2023-04-26T21:21:20.620287Z"
    },
    "papermill": {
     "duration": 0.016667,
     "end_time": "2023-04-26T21:21:20.623975",
     "exception": false,
     "start_time": "2023-04-26T21:21:20.607308",
     "status": "completed"
    },
    "tags": []
   },
   "outputs": [
    {
     "name": "stdout",
     "output_type": "stream",
     "text": [
      "There are 8124 samples in our observation dataset.\n"
     ]
    }
   ],
   "source": [
    "# Our first task is to know the total number of samples in our observation data.\n",
    "print('There are '+ str(len(mushroom_data))+' samples in our observation dataset.')"
   ]
  },
  {
   "cell_type": "markdown",
   "id": "2890bda3",
   "metadata": {
    "papermill": {
     "duration": 0.005946,
     "end_time": "2023-04-26T21:21:20.636232",
     "exception": false,
     "start_time": "2023-04-26T21:21:20.630286",
     "status": "completed"
    },
    "tags": []
   },
   "source": [
    "TODO: Discussion about the number of samples in a datasert as compared to the features to avoid overfitting."
   ]
  },
  {
   "cell_type": "code",
   "execution_count": 4,
   "id": "7b80ace2",
   "metadata": {
    "execution": {
     "iopub.execute_input": "2023-04-26T21:21:20.650772Z",
     "iopub.status.busy": "2023-04-26T21:21:20.650360Z",
     "iopub.status.idle": "2023-04-26T21:21:20.657009Z",
     "shell.execute_reply": "2023-04-26T21:21:20.655773Z"
    },
    "papermill": {
     "duration": 0.017057,
     "end_time": "2023-04-26T21:21:20.659565",
     "exception": false,
     "start_time": "2023-04-26T21:21:20.642508",
     "status": "completed"
    },
    "tags": []
   },
   "outputs": [
    {
     "name": "stdout",
     "output_type": "stream",
     "text": [
      "There are 22 attributes/features in the dataset, with one being gill-size.\n"
     ]
    }
   ],
   "source": [
    "# Lets check the column names which will give an idea about the attributes/features of the input observation data.\n",
    "column_names = [name for name in mushroom_data.columns]\n",
    "\n",
    "# print(column_names)\n",
    "\n",
    "print('There are '+ str(len(column_names)-1) + ' attributes/features in the dataset, with one being '+ str(column_names[random.randint(1,23)]) + '.')"
   ]
  },
  {
   "cell_type": "markdown",
   "id": "0d0db648",
   "metadata": {
    "papermill": {
     "duration": 0.006129,
     "end_time": "2023-04-26T21:21:20.672109",
     "exception": false,
     "start_time": "2023-04-26T21:21:20.665980",
     "status": "completed"
    },
    "tags": []
   },
   "source": [
    "TODO: Does all the attribute have different distributions and the input distribution is a result of the distribution of all of it?"
   ]
  },
  {
   "cell_type": "code",
   "execution_count": 5,
   "id": "50edc233",
   "metadata": {
    "execution": {
     "iopub.execute_input": "2023-04-26T21:21:20.686474Z",
     "iopub.status.busy": "2023-04-26T21:21:20.686105Z",
     "iopub.status.idle": "2023-04-26T21:21:20.712783Z",
     "shell.execute_reply": "2023-04-26T21:21:20.711447Z"
    },
    "papermill": {
     "duration": 0.036939,
     "end_time": "2023-04-26T21:21:20.715346",
     "exception": false,
     "start_time": "2023-04-26T21:21:20.678407",
     "status": "completed"
    },
    "tags": []
   },
   "outputs": [
    {
     "name": "stdout",
     "output_type": "stream",
     "text": [
      "There are 0 null values in the dataset.\n",
      "There are 0 NaN values in the dataset.\n"
     ]
    }
   ],
   "source": [
    "# Check missing values in the dataset - We will check both for Null(no entry) and NaN (not a number) values\n",
    "print('There are '+ str(mushroom_data.isnull().sum().sum()) + ' null values in the dataset.' ) # The first sum is for summing across columns and the second sum is for rows.\n",
    "print('There are '+ str(mushroom_data.isna().sum().sum()) + ' NaN values in the dataset.' )"
   ]
  },
  {
   "cell_type": "markdown",
   "id": "aa721eea",
   "metadata": {
    "papermill": {
     "duration": 0.007367,
     "end_time": "2023-04-26T21:21:20.729381",
     "exception": false,
     "start_time": "2023-04-26T21:21:20.722014",
     "status": "completed"
    },
    "tags": []
   },
   "source": [
    "Checking missing values and NaN values(specially for numerical observations) are an important of data analysis and manipulation.\n",
    "\n",
    "TODO: How to deal with missing values?"
   ]
  },
  {
   "cell_type": "code",
   "execution_count": 6,
   "id": "2ba80c93",
   "metadata": {
    "execution": {
     "iopub.execute_input": "2023-04-26T21:21:20.744310Z",
     "iopub.status.busy": "2023-04-26T21:21:20.743488Z",
     "iopub.status.idle": "2023-04-26T21:21:20.784877Z",
     "shell.execute_reply": "2023-04-26T21:21:20.783140Z"
    },
    "papermill": {
     "duration": 0.051397,
     "end_time": "2023-04-26T21:21:20.787174",
     "exception": false,
     "start_time": "2023-04-26T21:21:20.735777",
     "status": "completed"
    },
    "tags": []
   },
   "outputs": [
    {
     "name": "stdout",
     "output_type": "stream",
     "text": [
      "The unique values per class are as follows : \n",
      "class 2 ['p' 'e']\n",
      "cap-shape 6 ['x' 'b' 's' 'f' 'k' 'c']\n",
      "cap-surface 4 ['s' 'y' 'f' 'g']\n",
      "cap-color 10 ['n' 'y' 'w' 'g' 'e' 'p' 'b' 'u' 'c' 'r']\n",
      "bruises 2 ['t' 'f']\n",
      "odor 9 ['p' 'a' 'l' 'n' 'f' 'c' 'y' 's' 'm']\n",
      "gill-attachment 2 ['f' 'a']\n",
      "gill-spacing 2 ['c' 'w']\n",
      "gill-size 2 ['n' 'b']\n",
      "gill-color 12 ['k' 'n' 'g' 'p' 'w' 'h' 'u' 'e' 'b' 'r' 'y' 'o']\n",
      "stalk-shape 2 ['e' 't']\n",
      "stalk-root 5 ['e' 'c' 'b' 'r' '?']\n",
      "stalk-surface-above-ring 4 ['s' 'f' 'k' 'y']\n",
      "stalk-surface-below-ring 4 ['s' 'f' 'y' 'k']\n",
      "stalk-color-above-ring 9 ['w' 'g' 'p' 'n' 'b' 'e' 'o' 'c' 'y']\n",
      "stalk-color-below-ring 9 ['w' 'p' 'g' 'b' 'n' 'e' 'y' 'o' 'c']\n",
      "veil-type 1 ['p']\n",
      "veil-color 4 ['w' 'n' 'o' 'y']\n",
      "ring-number 3 ['o' 't' 'n']\n",
      "ring-type 5 ['p' 'e' 'l' 'f' 'n']\n",
      "spore-print-color 9 ['k' 'n' 'u' 'h' 'w' 'r' 'o' 'y' 'b']\n",
      "population 6 ['s' 'n' 'a' 'v' 'y' 'c']\n",
      "habitat 7 ['u' 'g' 'm' 'd' 'p' 'w' 'l']\n"
     ]
    }
   ],
   "source": [
    "# We now inspect the unique values of each column so that we know what type of data (ordinal or norminal or binary data we are dealing with?)\n",
    "# WE also print the unique category for each feature as shown in the dataset.\n",
    "print('The unique values per class are as follows : ')\n",
    "uniques = [print( str(column), str(len(mushroom_data[column].unique())), mushroom_data[column].unique()) for column in mushroom_data.columns]"
   ]
  },
  {
   "cell_type": "markdown",
   "id": "e9098bae",
   "metadata": {
    "papermill": {
     "duration": 0.00624,
     "end_time": "2023-04-26T21:21:20.800026",
     "exception": false,
     "start_time": "2023-04-26T21:21:20.793786",
     "status": "completed"
    },
    "tags": []
   },
   "source": [
    "If we observe the numbers and categories carefully we realize that the veil-type feature has only one unique label 'p', thus irrespective of the datset it will always be p. Thus we can drop this feature from the dataset as it adds no value while modelling the classifier."
   ]
  },
  {
   "cell_type": "code",
   "execution_count": 7,
   "id": "7d959bc9",
   "metadata": {
    "execution": {
     "iopub.execute_input": "2023-04-26T21:21:20.815557Z",
     "iopub.status.busy": "2023-04-26T21:21:20.814640Z",
     "iopub.status.idle": "2023-04-26T21:21:20.838433Z",
     "shell.execute_reply": "2023-04-26T21:21:20.837328Z"
    },
    "papermill": {
     "duration": 0.034386,
     "end_time": "2023-04-26T21:21:20.840980",
     "exception": false,
     "start_time": "2023-04-26T21:21:20.806594",
     "status": "completed"
    },
    "tags": []
   },
   "outputs": [],
   "source": [
    "# Check if we have any column to drop and which is binary and nominal\n",
    "to_drop = []\n",
    "for column in mushroom_data.columns:\n",
    "    if (len(mushroom_data[column].unique())==1):\n",
    "        to_drop.append(column)\n",
    "\n",
    "# Drop that column from the dataset        \n",
    "for col in to_drop:\n",
    "    mushroom_data.drop(col, axis='columns', inplace=False) "
   ]
  },
  {
   "cell_type": "markdown",
   "id": "f62e1604",
   "metadata": {
    "papermill": {
     "duration": 0.006372,
     "end_time": "2023-04-26T21:21:20.854019",
     "exception": false,
     "start_time": "2023-04-26T21:21:20.847647",
     "status": "completed"
    },
    "tags": []
   },
   "source": [
    "TODO: What more feature types can we drop."
   ]
  },
  {
   "cell_type": "markdown",
   "id": "9175b095",
   "metadata": {
    "papermill": {
     "duration": 0.006484,
     "end_time": "2023-04-26T21:21:20.867183",
     "exception": false,
     "start_time": "2023-04-26T21:21:20.860699",
     "status": "completed"
    },
    "tags": []
   },
   "source": [
    "Checking if the dataset is balanced (i.e have approximately similar number of samples) is necessing to avoid bias for one class label. "
   ]
  },
  {
   "cell_type": "code",
   "execution_count": 8,
   "id": "0e7063e9",
   "metadata": {
    "execution": {
     "iopub.execute_input": "2023-04-26T21:21:20.882420Z",
     "iopub.status.busy": "2023-04-26T21:21:20.881991Z",
     "iopub.status.idle": "2023-04-26T21:21:21.069573Z",
     "shell.execute_reply": "2023-04-26T21:21:21.068589Z"
    },
    "papermill": {
     "duration": 0.198193,
     "end_time": "2023-04-26T21:21:21.072059",
     "exception": false,
     "start_time": "2023-04-26T21:21:20.873866",
     "status": "completed"
    },
    "tags": []
   },
   "outputs": [
    {
     "data": {
      "image/png": "[encoded data removed]",
      "text/plain": [
       "<Figure size 640x480 with 1 Axes>"
      ]
     },
     "metadata": {},
     "output_type": "display_data"
    }
   ],
   "source": [
    "# Check if the dataset is balanced- i.e since we are trying to predict if a mushroom is edible to not, we have to have a data balance for the two categories\n",
    "class_output_list = mushroom_data['class'].tolist()\n",
    "e_list = class_output_list.count('e')/len(class_output_list)\n",
    "p_list = class_output_list.count('p')/len(class_output_list)\n",
    "plt.bar(list(set(class_output_list)),[e_list,p_list],width= 0.3)\n",
    "plt.title('Percentage of e and p')\n",
    "plt.xlabel('Elements')\n",
    "plt.ylabel('Percentage')\n",
    "plt.show()"
   ]
  },
  {
   "cell_type": "markdown",
   "id": "382feac4",
   "metadata": {
    "papermill": {
     "duration": 0.006766,
     "end_time": "2023-04-26T21:21:21.086022",
     "exception": false,
     "start_time": "2023-04-26T21:21:21.079256",
     "status": "completed"
    },
    "tags": []
   },
   "source": [
    "### Data Preprocessing"
   ]
  },
  {
   "cell_type": "code",
   "execution_count": 9,
   "id": "cb3e6944",
   "metadata": {
    "execution": {
     "iopub.execute_input": "2023-04-26T21:21:21.102794Z",
     "iopub.status.busy": "2023-04-26T21:21:21.102093Z",
     "iopub.status.idle": "2023-04-26T21:21:21.186777Z",
     "shell.execute_reply": "2023-04-26T21:21:21.185667Z"
    },
    "papermill": {
     "duration": 0.09633,
     "end_time": "2023-04-26T21:21:21.189523",
     "exception": false,
     "start_time": "2023-04-26T21:21:21.093193",
     "status": "completed"
    },
    "tags": []
   },
   "outputs": [
    {
     "data": {
      "text/plain": [
       "[{0: 'e', 1: 'p'},\n",
       " {0: 'b', 1: 'c', 2: 'f', 3: 'k', 4: 's', 5: 'x'},\n",
       " {0: 'f', 1: 'g', 2: 's', 3: 'y'},\n",
       " {0: 'b',\n",
       "  1: 'c',\n",
       "  2: 'e',\n",
       "  3: 'g',\n",
       "  4: 'n',\n",
       "  5: 'p',\n",
       "  6: 'r',\n",
       "  7: 'u',\n",
       "  8: 'w',\n",
       "  9: 'y'},\n",
       " {0: 'f', 1: 't'},\n",
       " {0: 'a', 1: 'c', 2: 'f', 3: 'l', 4: 'm', 5: 'n', 6: 'p', 7: 's', 8: 'y'},\n",
       " {0: 'a', 1: 'f'},\n",
       " {0: 'c', 1: 'w'},\n",
       " {0: 'b', 1: 'n'},\n",
       " {0: 'b',\n",
       "  1: 'e',\n",
       "  2: 'g',\n",
       "  3: 'h',\n",
       "  4: 'k',\n",
       "  5: 'n',\n",
       "  6: 'o',\n",
       "  7: 'p',\n",
       "  8: 'r',\n",
       "  9: 'u',\n",
       "  10: 'w',\n",
       "  11: 'y'},\n",
       " {0: 'e', 1: 't'},\n",
       " {0: '?', 1: 'b', 2: 'c', 3: 'e', 4: 'r'},\n",
       " {0: 'f', 1: 'k', 2: 's', 3: 'y'},\n",
       " {0: 'f', 1: 'k', 2: 's', 3: 'y'},\n",
       " {0: 'b', 1: 'c', 2: 'e', 3: 'g', 4: 'n', 5: 'o', 6: 'p', 7: 'w', 8: 'y'},\n",
       " {0: 'b', 1: 'c', 2: 'e', 3: 'g', 4: 'n', 5: 'o', 6: 'p', 7: 'w', 8: 'y'},\n",
       " {0: 'p'},\n",
       " {0: 'n', 1: 'o', 2: 'w', 3: 'y'},\n",
       " {0: 'n', 1: 'o', 2: 't'},\n",
       " {0: 'e', 1: 'f', 2: 'l', 3: 'n', 4: 'p'},\n",
       " {0: 'b', 1: 'h', 2: 'k', 3: 'n', 4: 'o', 5: 'r', 6: 'u', 7: 'w', 8: 'y'},\n",
       " {0: 'a', 1: 'c', 2: 'n', 3: 's', 4: 'v', 5: 'y'},\n",
       " {0: 'd', 1: 'g', 2: 'l', 3: 'm', 4: 'p', 5: 'u', 6: 'w'}]"
      ]
     },
     "execution_count": 9,
     "metadata": {},
     "output_type": "execute_result"
    }
   ],
   "source": [
    "# Convert all the categorical data to numerical values with Label_Encoder\n",
    "class_label_mappings = []\n",
    "encoder = LabelEncoder()\n",
    "for column in mushroom_data.columns:\n",
    "    mushroom_data[column] = encoder.fit_transform(mushroom_data[column])\n",
    "    mappings = {index : label for index,label in enumerate(encoder.classes_)}\n",
    "    class_label_mappings.append(mappings)\n",
    "class_label_mappings"
   ]
  },
  {
   "cell_type": "code",
   "execution_count": null,
   "id": "726a9854",
   "metadata": {
    "papermill": {
     "duration": 0.006933,
     "end_time": "2023-04-26T21:21:21.203653",
     "exception": false,
     "start_time": "2023-04-26T21:21:21.196720",
     "status": "completed"
    },
    "tags": []
   },
   "outputs": [],
   "source": []
  },
  {
   "cell_type": "code",
   "execution_count": 10,
   "id": "d3eb96a3",
   "metadata": {
    "execution": {
     "iopub.execute_input": "2023-04-26T21:21:21.220540Z",
     "iopub.status.busy": "2023-04-26T21:21:21.219609Z",
     "iopub.status.idle": "2023-04-26T21:21:21.241684Z",
     "shell.execute_reply": "2023-04-26T21:21:21.240703Z"
    },
    "papermill": {
     "duration": 0.033506,
     "end_time": "2023-04-26T21:21:21.244439",
     "exception": false,
     "start_time": "2023-04-26T21:21:21.210933",
     "status": "completed"
    },
    "tags": []
   },
   "outputs": [],
   "source": [
    "# Test and Train split data\n",
    "\n",
    "# \"class\" column as numpy array.\n",
    "y = mushroom_data[\"class\"].values\n",
    "x = mushroom_data.drop([\"class\"], axis=1)\n",
    "\n",
    "# Normalizing the data\n",
    "scaler = StandardScaler()\n",
    "x = pd.DataFrame(scaler.fit_transform(x),columns=x.columns)\n",
    "# Split thr data into train and test set.\n",
    "x_train, x_test, y_train, y_test = train_test_split(x,y,random_state=42,test_size=0.2)"
   ]
  },
  {
   "cell_type": "code",
   "execution_count": 11,
   "id": "6c39754c",
   "metadata": {
    "execution": {
     "iopub.execute_input": "2023-04-26T21:21:21.261078Z",
     "iopub.status.busy": "2023-04-26T21:21:21.260182Z",
     "iopub.status.idle": "2023-04-26T21:21:21.293031Z",
     "shell.execute_reply": "2023-04-26T21:21:21.292067Z"
    },
    "papermill": {
     "duration": 0.043833,
     "end_time": "2023-04-26T21:21:21.295417",
     "exception": false,
     "start_time": "2023-04-26T21:21:21.251584",
     "status": "completed"
    },
    "tags": []
   },
   "outputs": [
    {
     "data": {
      "text/html": [
       "<div>\n",
       "<style scoped>\n",
       "    .dataframe tbody tr th:only-of-type {\n",
       "        vertical-align: middle;\n",
       "    }\n",
       "\n",
       "    .dataframe tbody tr th {\n",
       "        vertical-align: top;\n",
       "    }\n",
       "\n",
       "    .dataframe thead th {\n",
       "        text-align: right;\n",
       "    }\n",
       "</style>\n",
       "<table border=\"1\" class=\"dataframe\">\n",
       "  <thead>\n",
       "    <tr style=\"text-align: right;\">\n",
       "      <th></th>\n",
       "      <th>cap-shape</th>\n",
       "      <th>cap-surface</th>\n",
       "      <th>cap-color</th>\n",
       "      <th>bruises</th>\n",
       "      <th>odor</th>\n",
       "      <th>gill-attachment</th>\n",
       "      <th>gill-spacing</th>\n",
       "      <th>gill-size</th>\n",
       "      <th>gill-color</th>\n",
       "      <th>stalk-shape</th>\n",
       "      <th>...</th>\n",
       "      <th>stalk-surface-below-ring</th>\n",
       "      <th>stalk-color-above-ring</th>\n",
       "      <th>stalk-color-below-ring</th>\n",
       "      <th>veil-type</th>\n",
       "      <th>veil-color</th>\n",
       "      <th>ring-number</th>\n",
       "      <th>ring-type</th>\n",
       "      <th>spore-print-color</th>\n",
       "      <th>population</th>\n",
       "      <th>habitat</th>\n",
       "    </tr>\n",
       "  </thead>\n",
       "  <tbody>\n",
       "    <tr>\n",
       "      <th>0</th>\n",
       "      <td>1.029712</td>\n",
       "      <td>0.140128</td>\n",
       "      <td>-0.198250</td>\n",
       "      <td>1.185917</td>\n",
       "      <td>0.881938</td>\n",
       "      <td>0.162896</td>\n",
       "      <td>-0.438864</td>\n",
       "      <td>1.494683</td>\n",
       "      <td>-0.228998</td>\n",
       "      <td>-1.144806</td>\n",
       "      <td>...</td>\n",
       "      <td>0.586385</td>\n",
       "      <td>0.622441</td>\n",
       "      <td>0.631991</td>\n",
       "      <td>0.0</td>\n",
       "      <td>0.142037</td>\n",
       "      <td>-0.256132</td>\n",
       "      <td>0.948081</td>\n",
       "      <td>-0.670195</td>\n",
       "      <td>-0.514389</td>\n",
       "      <td>2.030028</td>\n",
       "    </tr>\n",
       "    <tr>\n",
       "      <th>1</th>\n",
       "      <td>1.029712</td>\n",
       "      <td>0.140128</td>\n",
       "      <td>1.765874</td>\n",
       "      <td>1.185917</td>\n",
       "      <td>-1.970316</td>\n",
       "      <td>0.162896</td>\n",
       "      <td>-0.438864</td>\n",
       "      <td>-0.669038</td>\n",
       "      <td>-0.228998</td>\n",
       "      <td>-1.144806</td>\n",
       "      <td>...</td>\n",
       "      <td>0.586385</td>\n",
       "      <td>0.622441</td>\n",
       "      <td>0.631991</td>\n",
       "      <td>0.0</td>\n",
       "      <td>0.142037</td>\n",
       "      <td>-0.256132</td>\n",
       "      <td>0.948081</td>\n",
       "      <td>-0.250471</td>\n",
       "      <td>-1.313108</td>\n",
       "      <td>-0.295730</td>\n",
       "    </tr>\n",
       "    <tr>\n",
       "      <th>2</th>\n",
       "      <td>-2.087047</td>\n",
       "      <td>0.140128</td>\n",
       "      <td>1.373049</td>\n",
       "      <td>1.185917</td>\n",
       "      <td>-0.544189</td>\n",
       "      <td>0.162896</td>\n",
       "      <td>-0.438864</td>\n",
       "      <td>-0.669038</td>\n",
       "      <td>0.053477</td>\n",
       "      <td>-1.144806</td>\n",
       "      <td>...</td>\n",
       "      <td>0.586385</td>\n",
       "      <td>0.622441</td>\n",
       "      <td>0.631991</td>\n",
       "      <td>0.0</td>\n",
       "      <td>0.142037</td>\n",
       "      <td>-0.256132</td>\n",
       "      <td>0.948081</td>\n",
       "      <td>-0.250471</td>\n",
       "      <td>-1.313108</td>\n",
       "      <td>0.867149</td>\n",
       "    </tr>\n",
       "    <tr>\n",
       "      <th>3</th>\n",
       "      <td>1.029712</td>\n",
       "      <td>0.953270</td>\n",
       "      <td>1.373049</td>\n",
       "      <td>1.185917</td>\n",
       "      <td>0.881938</td>\n",
       "      <td>0.162896</td>\n",
       "      <td>-0.438864</td>\n",
       "      <td>1.494683</td>\n",
       "      <td>0.053477</td>\n",
       "      <td>-1.144806</td>\n",
       "      <td>...</td>\n",
       "      <td>0.586385</td>\n",
       "      <td>0.622441</td>\n",
       "      <td>0.631991</td>\n",
       "      <td>0.0</td>\n",
       "      <td>0.142037</td>\n",
       "      <td>-0.256132</td>\n",
       "      <td>0.948081</td>\n",
       "      <td>-0.670195</td>\n",
       "      <td>-0.514389</td>\n",
       "      <td>2.030028</td>\n",
       "    </tr>\n",
       "    <tr>\n",
       "      <th>4</th>\n",
       "      <td>1.029712</td>\n",
       "      <td>0.140128</td>\n",
       "      <td>-0.591075</td>\n",
       "      <td>-0.843230</td>\n",
       "      <td>0.406562</td>\n",
       "      <td>0.162896</td>\n",
       "      <td>2.278612</td>\n",
       "      <td>-0.669038</td>\n",
       "      <td>-0.228998</td>\n",
       "      <td>0.873511</td>\n",
       "      <td>...</td>\n",
       "      <td>0.586385</td>\n",
       "      <td>0.622441</td>\n",
       "      <td>0.631991</td>\n",
       "      <td>0.0</td>\n",
       "      <td>0.142037</td>\n",
       "      <td>-0.256132</td>\n",
       "      <td>-1.272216</td>\n",
       "      <td>-0.250471</td>\n",
       "      <td>-2.910546</td>\n",
       "      <td>-0.295730</td>\n",
       "    </tr>\n",
       "    <tr>\n",
       "      <th>...</th>\n",
       "      <td>...</td>\n",
       "      <td>...</td>\n",
       "      <td>...</td>\n",
       "      <td>...</td>\n",
       "      <td>...</td>\n",
       "      <td>...</td>\n",
       "      <td>...</td>\n",
       "      <td>...</td>\n",
       "      <td>...</td>\n",
       "      <td>...</td>\n",
       "      <td>...</td>\n",
       "      <td>...</td>\n",
       "      <td>...</td>\n",
       "      <td>...</td>\n",
       "      <td>...</td>\n",
       "      <td>...</td>\n",
       "      <td>...</td>\n",
       "      <td>...</td>\n",
       "      <td>...</td>\n",
       "      <td>...</td>\n",
       "      <td>...</td>\n",
       "    </tr>\n",
       "    <tr>\n",
       "      <th>8119</th>\n",
       "      <td>-0.216992</td>\n",
       "      <td>0.140128</td>\n",
       "      <td>-0.198250</td>\n",
       "      <td>-0.843230</td>\n",
       "      <td>0.406562</td>\n",
       "      <td>-6.138869</td>\n",
       "      <td>-0.438864</td>\n",
       "      <td>-0.669038</td>\n",
       "      <td>1.748325</td>\n",
       "      <td>-1.144806</td>\n",
       "      <td>...</td>\n",
       "      <td>0.586385</td>\n",
       "      <td>-0.429288</td>\n",
       "      <td>-0.416681</td>\n",
       "      <td>0.0</td>\n",
       "      <td>-3.979055</td>\n",
       "      <td>-0.256132</td>\n",
       "      <td>0.948081</td>\n",
       "      <td>-1.509643</td>\n",
       "      <td>-2.111827</td>\n",
       "      <td>0.285710</td>\n",
       "    </tr>\n",
       "    <tr>\n",
       "      <th>8120</th>\n",
       "      <td>1.029712</td>\n",
       "      <td>0.140128</td>\n",
       "      <td>-0.198250</td>\n",
       "      <td>-0.843230</td>\n",
       "      <td>0.406562</td>\n",
       "      <td>-6.138869</td>\n",
       "      <td>-0.438864</td>\n",
       "      <td>-0.669038</td>\n",
       "      <td>1.748325</td>\n",
       "      <td>-1.144806</td>\n",
       "      <td>...</td>\n",
       "      <td>0.586385</td>\n",
       "      <td>-0.429288</td>\n",
       "      <td>-0.416681</td>\n",
       "      <td>0.0</td>\n",
       "      <td>-8.100146</td>\n",
       "      <td>-0.256132</td>\n",
       "      <td>0.948081</td>\n",
       "      <td>-1.509643</td>\n",
       "      <td>0.284330</td>\n",
       "      <td>0.285710</td>\n",
       "    </tr>\n",
       "    <tr>\n",
       "      <th>8121</th>\n",
       "      <td>-0.840343</td>\n",
       "      <td>0.140128</td>\n",
       "      <td>-0.198250</td>\n",
       "      <td>-0.843230</td>\n",
       "      <td>0.406562</td>\n",
       "      <td>-6.138869</td>\n",
       "      <td>-0.438864</td>\n",
       "      <td>-0.669038</td>\n",
       "      <td>0.053477</td>\n",
       "      <td>-1.144806</td>\n",
       "      <td>...</td>\n",
       "      <td>0.586385</td>\n",
       "      <td>-0.429288</td>\n",
       "      <td>-0.416681</td>\n",
       "      <td>0.0</td>\n",
       "      <td>-3.979055</td>\n",
       "      <td>-0.256132</td>\n",
       "      <td>0.948081</td>\n",
       "      <td>-1.509643</td>\n",
       "      <td>-2.111827</td>\n",
       "      <td>0.285710</td>\n",
       "    </tr>\n",
       "    <tr>\n",
       "      <th>8122</th>\n",
       "      <td>-0.216992</td>\n",
       "      <td>0.953270</td>\n",
       "      <td>-0.198250</td>\n",
       "      <td>-0.843230</td>\n",
       "      <td>1.832689</td>\n",
       "      <td>0.162896</td>\n",
       "      <td>-0.438864</td>\n",
       "      <td>1.494683</td>\n",
       "      <td>-1.358896</td>\n",
       "      <td>0.873511</td>\n",
       "      <td>...</td>\n",
       "      <td>-0.893053</td>\n",
       "      <td>0.622441</td>\n",
       "      <td>0.631991</td>\n",
       "      <td>0.0</td>\n",
       "      <td>0.142037</td>\n",
       "      <td>-0.256132</td>\n",
       "      <td>-1.272216</td>\n",
       "      <td>1.428426</td>\n",
       "      <td>0.284330</td>\n",
       "      <td>0.285710</td>\n",
       "    </tr>\n",
       "    <tr>\n",
       "      <th>8123</th>\n",
       "      <td>1.029712</td>\n",
       "      <td>0.140128</td>\n",
       "      <td>-0.198250</td>\n",
       "      <td>-0.843230</td>\n",
       "      <td>0.406562</td>\n",
       "      <td>-6.138869</td>\n",
       "      <td>-0.438864</td>\n",
       "      <td>-0.669038</td>\n",
       "      <td>1.748325</td>\n",
       "      <td>-1.144806</td>\n",
       "      <td>...</td>\n",
       "      <td>0.586385</td>\n",
       "      <td>-0.429288</td>\n",
       "      <td>-0.416681</td>\n",
       "      <td>0.0</td>\n",
       "      <td>-3.979055</td>\n",
       "      <td>-0.256132</td>\n",
       "      <td>0.948081</td>\n",
       "      <td>0.169254</td>\n",
       "      <td>-2.111827</td>\n",
       "      <td>0.285710</td>\n",
       "    </tr>\n",
       "  </tbody>\n",
       "</table>\n",
       "<p>8124 rows × 22 columns</p>\n",
       "</div>"
      ],
      "text/plain": [
       "      cap-shape  cap-surface  cap-color   bruises      odor  gill-attachment  \\\n",
       "0      1.029712     0.140128  -0.198250  1.185917  0.881938         0.162896   \n",
       "1      1.029712     0.140128   1.765874  1.185917 -1.970316         0.162896   \n",
       "2     -2.087047     0.140128   1.373049  1.185917 -0.544189         0.162896   \n",
       "3      1.029712     0.953270   1.373049  1.185917  0.881938         0.162896   \n",
       "4      1.029712     0.140128  -0.591075 -0.843230  0.406562         0.162896   \n",
       "...         ...          ...        ...       ...       ...              ...   \n",
       "8119  -0.216992     0.140128  -0.198250 -0.843230  0.406562        -6.138869   \n",
       "8120   1.029712     0.140128  -0.198250 -0.843230  0.406562        -6.138869   \n",
       "8121  -0.840343     0.140128  -0.198250 -0.843230  0.406562        -6.138869   \n",
       "8122  -0.216992     0.953270  -0.198250 -0.843230  1.832689         0.162896   \n",
       "8123   1.029712     0.140128  -0.198250 -0.843230  0.406562        -6.138869   \n",
       "\n",
       "      gill-spacing  gill-size  gill-color  stalk-shape  ...  \\\n",
       "0        -0.438864   1.494683   -0.228998    -1.144806  ...   \n",
       "1        -0.438864  -0.669038   -0.228998    -1.144806  ...   \n",
       "2        -0.438864  -0.669038    0.053477    -1.144806  ...   \n",
       "3        -0.438864   1.494683    0.053477    -1.144806  ...   \n",
       "4         2.278612  -0.669038   -0.228998     0.873511  ...   \n",
       "...            ...        ...         ...          ...  ...   \n",
       "8119     -0.438864  -0.669038    1.748325    -1.144806  ...   \n",
       "8120     -0.438864  -0.669038    1.748325    -1.144806  ...   \n",
       "8121     -0.438864  -0.669038    0.053477    -1.144806  ...   \n",
       "8122     -0.438864   1.494683   -1.358896     0.873511  ...   \n",
       "8123     -0.438864  -0.669038    1.748325    -1.144806  ...   \n",
       "\n",
       "      stalk-surface-below-ring  stalk-color-above-ring  \\\n",
       "0                     0.586385                0.622441   \n",
       "1                     0.586385                0.622441   \n",
       "2                     0.586385                0.622441   \n",
       "3                     0.586385                0.622441   \n",
       "4                     0.586385                0.622441   \n",
       "...                        ...                     ...   \n",
       "8119                  0.586385               -0.429288   \n",
       "8120                  0.586385               -0.429288   \n",
       "8121                  0.586385               -0.429288   \n",
       "8122                 -0.893053                0.622441   \n",
       "8123                  0.586385               -0.429288   \n",
       "\n",
       "      stalk-color-below-ring  veil-type  veil-color  ring-number  ring-type  \\\n",
       "0                   0.631991        0.0    0.142037    -0.256132   0.948081   \n",
       "1                   0.631991        0.0    0.142037    -0.256132   0.948081   \n",
       "2                   0.631991        0.0    0.142037    -0.256132   0.948081   \n",
       "3                   0.631991        0.0    0.142037    -0.256132   0.948081   \n",
       "4                   0.631991        0.0    0.142037    -0.256132  -1.272216   \n",
       "...                      ...        ...         ...          ...        ...   \n",
       "8119               -0.416681        0.0   -3.979055    -0.256132   0.948081   \n",
       "8120               -0.416681        0.0   -8.100146    -0.256132   0.948081   \n",
       "8121               -0.416681        0.0   -3.979055    -0.256132   0.948081   \n",
       "8122                0.631991        0.0    0.142037    -0.256132  -1.272216   \n",
       "8123               -0.416681        0.0   -3.979055    -0.256132   0.948081   \n",
       "\n",
       "      spore-print-color  population   habitat  \n",
       "0             -0.670195   -0.514389  2.030028  \n",
       "1             -0.250471   -1.313108 -0.295730  \n",
       "2             -0.250471   -1.313108  0.867149  \n",
       "3             -0.670195   -0.514389  2.030028  \n",
       "4             -0.250471   -2.910546 -0.295730  \n",
       "...                 ...         ...       ...  \n",
       "8119          -1.509643   -2.111827  0.285710  \n",
       "8120          -1.509643    0.284330  0.285710  \n",
       "8121          -1.509643   -2.111827  0.285710  \n",
       "8122           1.428426    0.284330  0.285710  \n",
       "8123           0.169254   -2.111827  0.285710  \n",
       "\n",
       "[8124 rows x 22 columns]"
      ]
     },
     "execution_count": 11,
     "metadata": {},
     "output_type": "execute_result"
    }
   ],
   "source": [
    "x"
   ]
  },
  {
   "cell_type": "code",
   "execution_count": 12,
   "id": "cb718820",
   "metadata": {
    "execution": {
     "iopub.execute_input": "2023-04-26T21:21:21.314066Z",
     "iopub.status.busy": "2023-04-26T21:21:21.312813Z",
     "iopub.status.idle": "2023-04-26T21:21:24.312027Z",
     "shell.execute_reply": "2023-04-26T21:21:24.310418Z"
    },
    "papermill": {
     "duration": 3.011537,
     "end_time": "2023-04-26T21:21:24.315017",
     "exception": false,
     "start_time": "2023-04-26T21:21:21.303480",
     "status": "completed"
    },
    "tags": []
   },
   "outputs": [
    {
     "name": "stdout",
     "output_type": "stream",
     "text": [
      "1.0\n",
      "Best KNN Value: 1\n",
      "Test Accuracy: 100.0%\n"
     ]
    }
   ],
   "source": [
    "# Test knn classifier\n",
    "\n",
    "best_Kvalue = 0\n",
    "best_score = 0\n",
    "\n",
    "for i in range(1,8):\n",
    "    knn = KNeighborsClassifier(n_neighbors=i)\n",
    "    knn.fit(x_train,y_train)\n",
    "    if knn.score(x_test,y_test) > best_score:\n",
    "        print(knn.score(x_test,y_test))\n",
    "        best_score = knn.score(x_train,y_train)\n",
    "        best_Kvalue = i\n",
    "\n",
    "print(\"\"\"Best KNN Value: {}\n",
    "Test Accuracy: {}%\"\"\".format(best_Kvalue, round(best_score*100,2)))\n"
   ]
  },
  {
   "cell_type": "code",
   "execution_count": 13,
   "id": "6515587a",
   "metadata": {
    "execution": {
     "iopub.execute_input": "2023-04-26T21:21:24.333461Z",
     "iopub.status.busy": "2023-04-26T21:21:24.332695Z",
     "iopub.status.idle": "2023-04-26T21:21:24.627475Z",
     "shell.execute_reply": "2023-04-26T21:21:24.625936Z"
    },
    "papermill": {
     "duration": 0.307096,
     "end_time": "2023-04-26T21:21:24.630188",
     "exception": false,
     "start_time": "2023-04-26T21:21:24.323092",
     "status": "completed"
    },
    "tags": []
   },
   "outputs": [
    {
     "name": "stdout",
     "output_type": "stream",
     "text": [
      "1.0\n"
     ]
    }
   ],
   "source": [
    "knn = KNeighborsClassifier(n_neighbors=5)\n",
    "knn.fit(x_train,y_train)\n",
    "print(knn.score(x_test,y_test))"
   ]
  },
  {
   "cell_type": "code",
   "execution_count": null,
   "id": "04d9e93c",
   "metadata": {
    "papermill": {
     "duration": 0.007342,
     "end_time": "2023-04-26T21:21:24.645474",
     "exception": false,
     "start_time": "2023-04-26T21:21:24.638132",
     "status": "completed"
    },
    "tags": []
   },
   "outputs": [],
   "source": []
  }
 ],
 "metadata": {
  "kernelspec": {
   "display_name": "Python 3",
   "language": "python",
   "name": "python3"
  },
  "language_info": {
   "codemirror_mode": {
    "name": "ipython",
    "version": 3
   },
   "file_extension": ".py",
   "mimetype": "text/x-python",
   "name": "python",
   "nbconvert_exporter": "python",
   "pygments_lexer": "ipython3",
   "version": "3.7.12"
  },
  "papermill": {
   "default_parameters": {},
   "duration": 16.310426,
   "end_time": "2023-04-26T21:21:25.374986",
   "environment_variables": {},
   "exception": null,
   "input_path": "__notebook__.ipynb",
   "output_path": "__notebook__.ipynb",
   "parameters": {},
   "start_time": "2023-04-26T21:21:09.064560",
   "version": "2.4.0"
  }
 },
 "nbformat": 4,
 "nbformat_minor": 5
}
